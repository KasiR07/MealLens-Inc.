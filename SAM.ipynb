{
  "nbformat": 4,
  "nbformat_minor": 0,
  "metadata": {
    "colab": {
      "provenance": [],
      "authorship_tag": "ABX9TyN1KoA5y57a4aM+7z3ayH+9",
      "include_colab_link": true
    },
    "kernelspec": {
      "name": "python3",
      "display_name": "Python 3"
    },
    "language_info": {
      "name": "python"
    }
  },
  "cells": [
    {
      "cell_type": "markdown",
      "metadata": {
        "id": "view-in-github",
        "colab_type": "text"
      },
      "source": [
        "<a href=\"https://colab.research.google.com/github/KasiR07/MealLens-Inc/blob/main/SAM.ipynb\" target=\"_parent\"><img src=\"https://colab.research.google.com/assets/colab-badge.svg\" alt=\"Open In Colab\"/></a>"
      ]
    },
    {
      "cell_type": "code",
      "execution_count": 1,
      "metadata": {
        "id": "zrgYW5I2Wtxh"
      },
      "outputs": [],
      "source": [
        "import torch\n",
        "import cv2\n",
        "import numpy as np\n",
        "import os\n",
        "import matplotlib.pyplot as plt\n"
      ]
    },
    {
      "cell_type": "markdown",
      "source": [
        "# Attempt to import necessary modules from SAM2 package"
      ],
      "metadata": {
        "id": "qZD0MIxrW2K8"
      }
    },
    {
      "cell_type": "code",
      "source": [
        "try:\n",
        "    from sam2.sam2_image_predictor import SAM2ImagePredictor\n",
        "    from sam2.build_sam import build_sam2\n",
        "    from sam2.automatic_mask_generator import SAM2AutomaticMaskGenerator\n",
        "except ImportError as error:\n",
        "    print(f\"ImportError: {error}\")\n",
        "    print(\"Make sure 'sam2_env' is activated and dependencies are installed from the 'sam2' directory.\")\n",
        "    raise"
      ],
      "metadata": {
        "id": "8BNs2KqmWy6y"
      },
      "execution_count": null,
      "outputs": []
    },
    {
      "cell_type": "markdown",
      "source": [
        "# File Path Configuration"
      ],
      "metadata": {
        "id": "w_8eC6m9W7kA"
      }
    },
    {
      "cell_type": "code",
      "source": [
        "BASE_DIR = 'https://github.com/KasiR07/MealLens-Inc/blob/main/Org_Image1.jpg'\n",
        "CHECKPOINT_FOLDER = os.path.join(BASE_DIR, 'checkpoints')\n",
        "CONFIG_FILE = os.path.join(BASE_DIR, 'sam2', 'configs', 'sam2.1', 'sam2.1_hiera_b+.yaml')\n",
        "MODEL_FILE = 'sam2.1_hiera_base_plus.pt'\n",
        "CHECKPOINT_PATH = os.path.join(CHECKPOINT_FOLDER, MODEL_FILE)\n",
        "IMG_DIR = 'C:/Users/akhil/food_images_sample'\n",
        "\n",
        "print(\"Libraries and modules loaded successfully.\")\n"
      ],
      "metadata": {
        "colab": {
          "base_uri": "https://localhost:8080/"
        },
        "id": "dScICTDnXAec",
        "outputId": "636ad87a-b573-4a22-9093-dda4ee295417"
      },
      "execution_count": 5,
      "outputs": [
        {
          "output_type": "stream",
          "name": "stdout",
          "text": [
            "Libraries and modules loaded successfully.\n"
          ]
        }
      ]
    },
    {
      "cell_type": "markdown",
      "source": [
        "# Load SAM2 Model"
      ],
      "metadata": {
        "id": "RA7eEQmwXItW"
      }
    },
    {
      "cell_type": "code",
      "source": [
        "device = torch.device(\"cuda\" if torch.cuda.is_available() else \"cpu\")\n",
        "print(f\"Running on: {device}\")\n",
        "\n",
        "try:\n",
        "    if not os.path.isfile(CHECKPOINT_PATH):\n",
        "        raise FileNotFoundError(f\"Checkpoint not found at: {CHECKPOINT_PATH}\")\n",
        "    if not os.path.isfile(CONFIG_FILE):\n",
        "        raise FileNotFoundError(f\"Config file not found at: {CONFIG_FILE}\")\n",
        "\n",
        "    # Load and build the SAM2 model\n",
        "    model = build_sam2(\n",
        "        config_file=CONFIG_FILE,\n",
        "        ckpt_path=CHECKPOINT_PATH,\n",
        "        device=device\n",
        "    )\n",
        "    model.eval()\n",
        "\n",
        "    # Initialize mask generator with model and desired parameters\n",
        "    mask_generator = SAM2AutomaticMaskGenerator(\n",
        "        model=model,\n",
        "        points_per_side=16,\n",
        "        pred_iou_thresh=0.86,\n",
        "        stability_score_thresh=0.92,\n",
        "        min_mask_region_area=100,\n",
        "        output_mode=\"binary_mask\",\n",
        "        multimask_output=True\n",
        "    )\n",
        "\n",
        "    print(f\"Model {MODEL_FILE} initialized successfully on {device}.\")\n",
        "\n",
        "except Exception as err:\n",
        "    print(f\"Model loading failed: {err}\")\n",
        "    import traceback\n",
        "    traceback.print_exc()\n",
        "    raise\n"
      ],
      "metadata": {
        "colab": {
          "base_uri": "https://localhost:8080/",
          "height": 352
        },
        "id": "1eoLrc1LXNsU",
        "outputId": "f7a06f73-7ad0-4138-f6b1-f27248d8161c"
      },
      "execution_count": 7,
      "outputs": [
        {
          "output_type": "stream",
          "name": "stdout",
          "text": [
            "Running on: cpu\n",
            "Model loading failed: Checkpoint not found at: https://github.com/KasiR07/MealLens-Inc/blob/main/Org_Image1.jpg/checkpoints/sam2.1_hiera_base_plus.pt\n"
          ]
        },
        {
          "output_type": "stream",
          "name": "stderr",
          "text": [
            "Traceback (most recent call last):\n",
            "  File \"<ipython-input-7-981014112>\", line 6, in <cell line: 0>\n",
            "    raise FileNotFoundError(f\"Checkpoint not found at: {CHECKPOINT_PATH}\")\n",
            "FileNotFoundError: Checkpoint not found at: https://github.com/KasiR07/MealLens-Inc/blob/main/Org_Image1.jpg/checkpoints/sam2.1_hiera_base_plus.pt\n"
          ]
        },
        {
          "output_type": "error",
          "ename": "FileNotFoundError",
          "evalue": "Checkpoint not found at: https://github.com/KasiR07/MealLens-Inc/blob/main/Org_Image1.jpg/checkpoints/sam2.1_hiera_base_plus.pt",
          "traceback": [
            "\u001b[0;31m---------------------------------------------------------------------------\u001b[0m",
            "\u001b[0;31mFileNotFoundError\u001b[0m                         Traceback (most recent call last)",
            "\u001b[0;32m<ipython-input-7-981014112>\u001b[0m in \u001b[0;36m<cell line: 0>\u001b[0;34m()\u001b[0m\n\u001b[1;32m      4\u001b[0m \u001b[0;32mtry\u001b[0m\u001b[0;34m:\u001b[0m\u001b[0;34m\u001b[0m\u001b[0;34m\u001b[0m\u001b[0m\n\u001b[1;32m      5\u001b[0m     \u001b[0;32mif\u001b[0m \u001b[0;32mnot\u001b[0m \u001b[0mos\u001b[0m\u001b[0;34m.\u001b[0m\u001b[0mpath\u001b[0m\u001b[0;34m.\u001b[0m\u001b[0misfile\u001b[0m\u001b[0;34m(\u001b[0m\u001b[0mCHECKPOINT_PATH\u001b[0m\u001b[0;34m)\u001b[0m\u001b[0;34m:\u001b[0m\u001b[0;34m\u001b[0m\u001b[0;34m\u001b[0m\u001b[0m\n\u001b[0;32m----> 6\u001b[0;31m         \u001b[0;32mraise\u001b[0m \u001b[0mFileNotFoundError\u001b[0m\u001b[0;34m(\u001b[0m\u001b[0;34mf\"Checkpoint not found at: {CHECKPOINT_PATH}\"\u001b[0m\u001b[0;34m)\u001b[0m\u001b[0;34m\u001b[0m\u001b[0;34m\u001b[0m\u001b[0m\n\u001b[0m\u001b[1;32m      7\u001b[0m     \u001b[0;32mif\u001b[0m \u001b[0;32mnot\u001b[0m \u001b[0mos\u001b[0m\u001b[0;34m.\u001b[0m\u001b[0mpath\u001b[0m\u001b[0;34m.\u001b[0m\u001b[0misfile\u001b[0m\u001b[0;34m(\u001b[0m\u001b[0mCONFIG_FILE\u001b[0m\u001b[0;34m)\u001b[0m\u001b[0;34m:\u001b[0m\u001b[0;34m\u001b[0m\u001b[0;34m\u001b[0m\u001b[0m\n\u001b[1;32m      8\u001b[0m         \u001b[0;32mraise\u001b[0m \u001b[0mFileNotFoundError\u001b[0m\u001b[0;34m(\u001b[0m\u001b[0;34mf\"Config file not found at: {CONFIG_FILE}\"\u001b[0m\u001b[0;34m)\u001b[0m\u001b[0;34m\u001b[0m\u001b[0;34m\u001b[0m\u001b[0m\n",
            "\u001b[0;31mFileNotFoundError\u001b[0m: Checkpoint not found at: https://github.com/KasiR07/MealLens-Inc/blob/main/Org_Image1.jpg/checkpoints/sam2.1_hiera_base_plus.pt"
          ]
        }
      ]
    },
    {
      "cell_type": "markdown",
      "source": [
        "# Load Image Paths"
      ],
      "metadata": {
        "id": "DqnWmzXgXgMC"
      }
    },
    {
      "cell_type": "code",
      "source": [
        "image_files = []\n",
        "if os.path.isdir(IMG_DIR):\n",
        "    image_files = [os.path.join(IMG_DIR, f) for f in os.listdir(IMG_DIR)\n",
        "                   if f.lower().endswith(('.png', '.jpg', '.jpeg', '.gif', '.bmp', '.tiff'))]\n",
        "    print(f\"{len(image_files)} image(s) found in directory: {IMG_DIR}\")\n",
        "    if not image_files:\n",
        "        raise FileNotFoundError(\"No supported image files found.\")\n",
        "else:\n",
        "    raise FileNotFoundError(f\"Directory not found: {IMG_DIR}\")\n"
      ],
      "metadata": {
        "id": "Gb4jGby6XjPh"
      },
      "execution_count": null,
      "outputs": []
    },
    {
      "cell_type": "markdown",
      "source": [
        "# Perform Segmentation"
      ],
      "metadata": {
        "id": "qylM-66BXmRa"
      }
    },
    {
      "cell_type": "code",
      "source": [
        "results = {}\n",
        "print(\"Beginning segmentation on available images...\")\n",
        "\n",
        "for img_path in image_files:\n",
        "    name = os.path.basename(img_path)\n",
        "    print(f\"Processing: {name}\")\n",
        "\n",
        "    img_bgr = cv2.imread(img_path)\n",
        "    if img_bgr is None:\n",
        "        print(f\"Failed to read: {img_path}\")\n",
        "        continue\n",
        "\n",
        "    img_rgb = cv2.cvtColor(img_bgr, cv2.COLOR_BGR2RGB)\n",
        "\n",
        "    try:\n",
        "        masks = mask_generator.generate(img_rgb)\n",
        "        results[name] = masks\n",
        "        print(f\"Generated {len(masks)} mask(s) for {name}\")\n",
        "    except Exception as e:\n",
        "        print(f\"Error processing {name}: {e}\")\n",
        "        import traceback\n",
        "        traceback.print_exc()\n",
        "\n",
        "print(f\"Segmentation completed for {len(results)} image(s).\")"
      ],
      "metadata": {
        "id": "qyH_SECLXp3d"
      },
      "execution_count": null,
      "outputs": []
    },
    {
      "cell_type": "markdown",
      "source": [
        "# Display First Image with Masks Overlay"
      ],
      "metadata": {
        "id": "6AVRHFgHXsxW"
      }
    },
    {
      "cell_type": "code",
      "source": [
        "if results:\n",
        "    first_img = list(results.keys())[0]\n",
        "    first_path = os.path.join(IMG_DIR, first_img)\n",
        "    img_np = cv2.cvtColor(cv2.imread(first_path), cv2.COLOR_BGR2RGB)\n",
        "    masks_info = results[first_img]\n",
        "\n",
        "    if masks_info:\n",
        "        plt.figure(figsize=(10, 10))\n",
        "        plt.imshow(img_np)\n",
        "        ax = plt.gca()\n",
        "        ax.set_autoscale_on(False)\n",
        "\n",
        "        h, w = img_np.shape[:2]\n",
        "        overlay = np.zeros((h, w, 4), dtype=np.uint8)\n",
        "\n",
        "        for mask_info in sorted(masks_info, key=lambda x: x['area'], reverse=True):\n",
        "            mask = mask_info['segmentation']\n",
        "            color = np.concatenate([np.random.randint(0, 256, 3), [int(255 * 0.6)]])\n",
        "            overlay[mask] = color\n",
        "\n",
        "        plt.imshow(overlay)\n",
        "        plt.title(f\"Segmentation Preview: {first_img}\")\n",
        "        plt.axis('off')\n",
        "        plt.show()\n",
        "    else:\n",
        "        print(f\"No masks available for {first_img}.\")\n",
        "else:\n",
        "    print(\"No segmentation results found to display.\")"
      ],
      "metadata": {
        "id": "C1w7I9e6Xv3I"
      },
      "execution_count": null,
      "outputs": []
    }
  ]
}